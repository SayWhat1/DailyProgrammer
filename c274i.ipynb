{
 "cells": [
  {
   "cell_type": "code",
   "execution_count": 1,
   "metadata": {
    "collapsed": false,
    "scrolled": true
   },
   "outputs": [
    {
     "name": "stdout",
     "output_type": "stream",
     "text": [
      "00010020030040110120130140210220230240310320330340410420430441112113114122123124132133134142143144222322423323424324433343444\n",
      "00001001101111\n",
      "aaaabaaacaaadaaaeaabbaabcaabdaabeaacbaaccaacdaaceaadbaadcaaddaadeaaebaaecaaedaaeeabacabadabaeabbbabbcabbdabbeabcbabccabcdabceabdbabdcabddabdeabebabecabedabeeacadacaeacbbacbcacbdacbeaccbacccaccdacceacdbacdcacddacdeacebacecacedaceeadaeadbbadbcadbdadbeadcbadccadcdadceaddbaddcadddaddeadebadecadedadeeaebbaebcaebdaebeaecbaeccaecdaeceaedbaedcaeddaedeaeebaeecaeedaeeebbbbcbbbdbbbebbccbbcdbbcebbdcbbddbbdebbecbbedbbeebcbdbcbebcccbccdbccebcdcbcddbcdebcecbcedbceebdbebdccbdcdbdcebddcbdddbddebdecbdedbdeebeccbecdbecebedcbeddbedebeecbeedbeeeccccdccceccddccdeccedcceecdcecdddcddecdedcdeeceddcedeceedceeeddddeddeedeeee\n"
     ]
    }
   ],
   "source": [
    "class Debruijin:\n",
    "    def __init__(self, s, n):\n",
    "        self.s, self.n = s, n\n",
    "        words = []\n",
    "        for i in self.__generate(s,n):\n",
    "            if len(i)%n == 0 or len(i) == 1:\n",
    "                words.extend(i)\n",
    "        self.debruijin = ''.join(str(i) for i in words)\n",
    "        \n",
    "    def __generate(self, s, n):\n",
    "        if isinstance(s, str):\n",
    "            alph = list(s)\n",
    "        else:\n",
    "            alph = range(s)\n",
    "        w = [alph[0]]\n",
    "        index = 0\n",
    "        while w:\n",
    "            yield w\n",
    "            if len(w) == 1 and w[0] == alph[-1]:\n",
    "                break\n",
    "            wordlen = len(w)\n",
    "            while len(w) < n:\n",
    "                w.append(w[-wordlen])\n",
    "            while w and w[-1] == alph[-1]:\n",
    "                w.pop()\n",
    "            index = alph.index(w[-1]) + 1\n",
    "            if index < len(alph):\n",
    "                w[-1] = alph[index]\n",
    "            else:\n",
    "                w[-1] = alph[0]\n",
    "    def __str__(self):\n",
    "        return self.debruijin\n",
    "        \n",
    "        \n",
    "        \n",
    "print Debruijin(5,3) \n",
    "print Debruijin(2,4)\n",
    "print Debruijin('abcde', 4)"
   ]
  }
 ],
 "metadata": {
  "kernelspec": {
   "display_name": "Python 2",
   "language": "python",
   "name": "python2"
  },
  "language_info": {
   "codemirror_mode": {
    "name": "ipython",
    "version": 2
   },
   "file_extension": ".py",
   "mimetype": "text/x-python",
   "name": "python",
   "nbconvert_exporter": "python",
   "pygments_lexer": "ipython2",
   "version": "2.7.11"
  }
 },
 "nbformat": 4,
 "nbformat_minor": 0
}

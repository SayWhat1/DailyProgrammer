{
 "cells": [
  {
   "cell_type": "code",
   "execution_count": 1,
   "metadata": {
    "collapsed": true
   },
   "outputs": [],
   "source": [
    "from collections import defaultdict\n",
    "import numpy as np\n",
    "from numpy.random import choice"
   ]
  },
  {
   "cell_type": "code",
   "execution_count": 2,
   "metadata": {
    "collapsed": false
   },
   "outputs": [],
   "source": [
    "class markovChain:\n",
    "    def __init__(self, tokens = 2):\n",
    "        self.tokens = tokens\n",
    "        self.chain = defaultdict(lambda: dict())\n",
    "    def addText(self, txt):\n",
    "        txtLst = txt.split(' ')\n",
    "        for i in range(len(txtLst) - self.tokens - 1):\n",
    "            pre = tuple(txtLst[i:i + self.tokens])\n",
    "            suf = txtLst[i + self.tokens]\n",
    "            if suf in self.chain[pre].values():\n",
    "                self.chain[pre][suf] += 1\n",
    "            elif pre in self.chain.keys():\n",
    "                self.chain[pre].update({suf : 1})\n",
    "            else:\n",
    "                self.chain[pre] = {suf : 1}\n",
    "        return self\n",
    "    def __getitem__(self, key):\n",
    "        words = []\n",
    "        p = []\n",
    "        for k, v in self.chain[key].iteritems():\n",
    "            words.append(k)\n",
    "            p.append(float(v))\n",
    "        p = p/np.sum(p)\n",
    "        return choice(words,1,p=p)\n",
    "    def generateText(self, length = 100):\n",
    "        start = [word for word in self.chain.keys() if word[0][0].isupper()]\n",
    "        word = []\n",
    "        output = list(start[int(choice(range(len(start)) , 1))])\n",
    "        while True:\n",
    "            word = self[tuple(output[-self.tokens:])]\n",
    "            output.append(word[0])\n",
    "            if len(output) > length and word[0].endswith('.'):\n",
    "                break\n",
    "        print ' '.join(output)"
   ]
  },
  {
   "cell_type": "code",
   "execution_count": null,
   "metadata": {
    "collapsed": false
   },
   "outputs": [],
   "source": [
    "text = ' '.join([w for w in open('startrek.txt').read().split()])\n",
    "chain = markovChain(tokens = 3).addText(text)"
   ]
  },
  {
   "cell_type": "code",
   "execution_count": null,
   "metadata": {
    "collapsed": false
   },
   "outputs": [],
   "source": [
    "chain.generateText()"
   ]
  },
  {
   "cell_type": "code",
   "execution_count": null,
   "metadata": {
    "collapsed": true
   },
   "outputs": [],
   "source": []
  }
 ],
 "metadata": {
  "kernelspec": {
   "display_name": "Python 2",
   "language": "python",
   "name": "python2"
  },
  "language_info": {
   "codemirror_mode": {
    "name": "ipython",
    "version": 2
   },
   "file_extension": ".py",
   "mimetype": "text/x-python",
   "name": "python",
   "nbconvert_exporter": "python",
   "pygments_lexer": "ipython2",
   "version": "2.7.11"
  }
 },
 "nbformat": 4,
 "nbformat_minor": 0
}
